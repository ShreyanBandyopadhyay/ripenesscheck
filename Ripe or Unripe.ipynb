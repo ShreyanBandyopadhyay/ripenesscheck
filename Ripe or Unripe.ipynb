{
 "cells": [
  {
   "cell_type": "code",
   "execution_count": 1,
   "id": "72d28368",
   "metadata": {},
   "outputs": [
    {
     "name": "stdout",
     "output_type": "stream",
     "text": [
      "Found 623 images belonging to 2 classes.\n",
      "Found 155 images belonging to 2 classes.\n",
      "Epoch 1/5\n"
     ]
    },
    {
     "name": "stderr",
     "output_type": "stream",
     "text": [
      "C:\\Users\\MSI-PC\\anaconda3\\Lib\\site-packages\\keras\\src\\trainers\\data_adapters\\py_dataset_adapter.py:121: UserWarning: Your `PyDataset` class should call `super().__init__(**kwargs)` in its constructor. `**kwargs` can include `workers`, `use_multiprocessing`, `max_queue_size`. Do not pass these arguments to `fit()`, as they will be ignored.\n",
      "  self._warn_if_super_not_called()\n"
     ]
    },
    {
     "name": "stdout",
     "output_type": "stream",
     "text": [
      "\u001b[1m19/19\u001b[0m \u001b[32m━━━━━━━━━━━━━━━━━━━━\u001b[0m\u001b[37m\u001b[0m \u001b[1m17s\u001b[0m 565ms/step - accuracy: 0.5247 - loss: 1.8048 - val_accuracy: 0.7734 - val_loss: 0.4927\n",
      "Epoch 2/5\n",
      "\u001b[1m 1/19\u001b[0m \u001b[32m━\u001b[0m\u001b[37m━━━━━━━━━━━━━━━━━━━\u001b[0m \u001b[1m4s\u001b[0m 251ms/step - accuracy: 0.8125 - loss: 0.4202"
     ]
    },
    {
     "name": "stderr",
     "output_type": "stream",
     "text": [
      "C:\\Users\\MSI-PC\\anaconda3\\Lib\\contextlib.py:155: UserWarning: Your input ran out of data; interrupting training. Make sure that your dataset or generator can generate at least `steps_per_epoch * epochs` batches. You may need to use the `.repeat()` function when building your dataset.\n",
      "  self.gen.throw(typ, value, traceback)\n"
     ]
    },
    {
     "name": "stdout",
     "output_type": "stream",
     "text": [
      "\u001b[1m19/19\u001b[0m \u001b[32m━━━━━━━━━━━━━━━━━━━━\u001b[0m\u001b[37m\u001b[0m \u001b[1m1s\u001b[0m 21ms/step - accuracy: 0.8125 - loss: 0.4202 - val_accuracy: 0.7778 - val_loss: 0.5689\n",
      "Epoch 3/5\n",
      "\u001b[1m19/19\u001b[0m \u001b[32m━━━━━━━━━━━━━━━━━━━━\u001b[0m\u001b[37m\u001b[0m \u001b[1m11s\u001b[0m 472ms/step - accuracy: 0.7434 - loss: 0.5167 - val_accuracy: 0.7422 - val_loss: 0.5207\n",
      "Epoch 4/5\n",
      "\u001b[1m19/19\u001b[0m \u001b[32m━━━━━━━━━━━━━━━━━━━━\u001b[0m\u001b[37m\u001b[0m \u001b[1m1s\u001b[0m 17ms/step - accuracy: 0.7188 - loss: 0.4872 - val_accuracy: 0.7407 - val_loss: 0.5056\n",
      "Epoch 5/5\n",
      "\u001b[1m19/19\u001b[0m \u001b[32m━━━━━━━━━━━━━━━━━━━━\u001b[0m\u001b[37m\u001b[0m \u001b[1m13s\u001b[0m 570ms/step - accuracy: 0.8167 - loss: 0.4354 - val_accuracy: 0.8125 - val_loss: 0.4646\n"
     ]
    },
    {
     "name": "stderr",
     "output_type": "stream",
     "text": [
      "WARNING:absl:You are saving your model as an HDF5 file via `model.save()` or `keras.saving.save_model(model)`. This file format is considered legacy. We recommend using instead the native Keras format, e.g. `model.save('my_model.keras')` or `keras.saving.save_model(model, 'my_model.keras')`. \n"
     ]
    }
   ],
   "source": [
    "import tensorflow as tf\n",
    "from tensorflow.keras.preprocessing.image import ImageDataGenerator\n",
    "from tensorflow.keras.applications.mobilenet_v2 import MobileNetV2\n",
    "from tensorflow.keras.layers import Dense, GlobalAveragePooling2D\n",
    "from tensorflow.keras.models import Model\n",
    "from tensorflow.keras.optimizers import Adam\n",
    "\n",
    "# Path to your dataset directory\n",
    "dataset_dir = r'C:\\Users\\MSI-PC\\Downloads\\Ripe & Unripe Fruits'\n",
    "\n",
    "# Define image dimensions expected by MobileNetV2\n",
    "img_height, img_width = 224, 224\n",
    "\n",
    "# Define number of classes in your dataset\n",
    "num_classes = 2  # Ripe and Unripe\n",
    "\n",
    "# Create a data generator for training and validation images\n",
    "train_datagen = ImageDataGenerator(\n",
    "    rescale=1.0/255.0,  # rescale pixel values to [0,1]\n",
    "    shear_range=0.2,\n",
    "    zoom_range=0.2,\n",
    "    horizontal_flip=True,\n",
    "    validation_split=0.2  # split data into training and validation sets\n",
    ")\n",
    "\n",
    "train_generator = train_datagen.flow_from_directory(\n",
    "    dataset_dir,\n",
    "    target_size=(img_height, img_width),\n",
    "    batch_size=32,\n",
    "    class_mode='categorical',\n",
    "    subset='training'  # specify this is for training\n",
    ")\n",
    "\n",
    "valid_generator = train_datagen.flow_from_directory(\n",
    "    dataset_dir,\n",
    "    target_size=(img_height, img_width),\n",
    "    batch_size=32,\n",
    "    class_mode='categorical',\n",
    "    subset='validation'  # specify this is for validation\n",
    ")\n",
    "\n",
    "# create the base pre-trained model\n",
    "base_model = MobileNetV2(weights='imagenet', include_top=False, input_shape=(img_height, img_width, 3))\n",
    "\n",
    "# add a global spatial average pooling layer\n",
    "x = base_model.output\n",
    "x = GlobalAveragePooling2D()(x)\n",
    "# let's add a fully-connected layer\n",
    "x = Dense(1024, activation='relu')(x)\n",
    "# and a logistic layer -- let's say we have 2 classes (ripe and unripe)\n",
    "predictions = Dense(num_classes, activation='softmax')(x)\n",
    "\n",
    "# this is the model we will train\n",
    "model = Model(inputs=base_model.input, outputs=predictions)\n",
    "\n",
    "# first: train only the top layers (which were randomly initialized)\n",
    "# i.e. freeze all layers of the base model\n",
    "for layer in base_model.layers:\n",
    "    layer.trainable = False\n",
    "\n",
    "# compile the model (should be done *after* setting layers to non-trainable)\n",
    "model.compile(optimizer=Adam(), loss='categorical_crossentropy', metrics=['accuracy'])\n",
    "\n",
    "# Train the model\n",
    "history = model.fit(\n",
    "    train_generator,\n",
    "    steps_per_epoch=train_generator.samples // train_generator.batch_size,\n",
    "    epochs=5,\n",
    "    validation_data=valid_generator,\n",
    "    validation_steps=valid_generator.samples // valid_generator.batch_size\n",
    ")\n",
    "\n",
    "# Save the model\n",
    "model.save('fruit_ripeness_detection_model.h5')"
   ]
  },
  {
   "cell_type": "code",
   "execution_count": 2,
   "id": "e513977b",
   "metadata": {},
   "outputs": [
    {
     "name": "stderr",
     "output_type": "stream",
     "text": [
      "WARNING:absl:Compiled the loaded model, but the compiled metrics have yet to be built. `model.compile_metrics` will be empty until you train or evaluate the model.\n"
     ]
    },
    {
     "data": {
      "application/vnd.jupyter.widget-view+json": {
       "model_id": "63ae2a6b406d40faa477be8cc3a9b18d",
       "version_major": 2,
       "version_minor": 0
      },
      "text/plain": [
       "VBox(children=(FileUpload(value=(), accept='image/*', description='Upload'), Button(description='Classify', st…"
      ]
     },
     "metadata": {},
     "output_type": "display_data"
    }
   ],
   "source": [
    "import tensorflow as tf\n",
    "import numpy as np\n",
    "import io\n",
    "from PIL import Image, ImageOps\n",
    "import matplotlib.pyplot as plt\n",
    "import ipywidgets as widgets\n",
    "from IPython.display import display\n",
    "\n",
    "# Load the saved model\n",
    "model = tf.keras.models.load_model('fruit_ripeness_detection_model.h5')\n",
    "\n",
    "# Define image dimensions expected by the model\n",
    "img_height, img_width = 224, 224\n",
    "\n",
    "# Function to detect features in the fruit image\n",
    "def detect_features(img):\n",
    "    # Convert image to numpy array\n",
    "    img_np = np.array(img)\n",
    "    \n",
    "    # Example feature detection (replace with actual logic)\n",
    "    # For example, you can detect specific color ranges, textures, etc.\n",
    "    feature_detected = (img_np[:,:,0] > 150) & (img_np[:,:,1] < 100) & (img_np[:,:,2] < 100)\n",
    "    \n",
    "    # Example feature score (replace with actual scoring logic)\n",
    "    feature_score = np.sum(feature_detected) / feature_detected.size\n",
    "    \n",
    "    return feature_score\n",
    "\n",
    "# Function to preprocess the uploaded image\n",
    "def preprocess_image(img):\n",
    "    img = img.convert('RGB')  # Ensure image is in RGB format\n",
    "    img = ImageOps.exif_transpose(img)  # Handle image orientation\n",
    "    img = img.resize((img_width, img_height))  # Resize image to model's expected sizing\n",
    "    img = np.array(img)\n",
    "    img = img / 255.0  # Normalize pixel values\n",
    "    img = np.expand_dims(img, axis=0)  # Add batch dimension\n",
    "    return img\n",
    "\n",
    "# Function to handle file upload and classification\n",
    "def on_upload_button_clicked(change):\n",
    "    with out:\n",
    "        plt.close('all')\n",
    "        out.clear_output()\n",
    "        \n",
    "        # Read uploaded image file\n",
    "        img = upload_btn.value\n",
    "        \n",
    "        if img:\n",
    "            # Display the uploaded image\n",
    "            img_widget.clear_output(wait=True)\n",
    "            with img_widget:\n",
    "                img_obj = Image.open(io.BytesIO(img[-1]['content']))\n",
    "                plt.imshow(img_obj)\n",
    "                plt.axis('off')\n",
    "                plt.show()\n",
    "\n",
    "            # Preprocess the image for model prediction\n",
    "            img = Image.open(io.BytesIO(img[-1]['content']))\n",
    "            img_preprocessed = preprocess_image(img)\n",
    "            \n",
    "            # Detect features in the image\n",
    "            feature_score = detect_features(img)\n",
    "            \n",
    "            # Display feature score\n",
    "            feature_output.value = f\"Feature score: {feature_score:.3f}\"\n",
    "            \n",
    "            # Classify the image using the model\n",
    "            if feature_score < 0.025:\n",
    "                result_label.value = 'Cannot detect fruit'\n",
    "            elif feature_score <= 0.098:\n",
    "                result_label.value = 'Unripe'\n",
    "            else:\n",
    "                prediction = model.predict(img_preprocessed)\n",
    "                if prediction[0][0] > prediction[0][1]:\n",
    "                    result_label.value = 'Ripe'\n",
    "                else:\n",
    "                    result_label.value = 'Unripe'\n",
    "        else:\n",
    "            result_label.value = 'No image uploaded'\n",
    "\n",
    "# Create a file upload button\n",
    "upload_btn = widgets.FileUpload(accept='image/*', multiple=False)\n",
    "\n",
    "# Create a button to trigger image classification\n",
    "classify_btn = widgets.Button(description='Classify')\n",
    "classify_btn.on_click(on_upload_button_clicked)\n",
    "\n",
    "# Output widgets\n",
    "out = widgets.Output()\n",
    "img_widget = widgets.Output()\n",
    "result_label = widgets.Label()\n",
    "feature_output = widgets.Label()\n",
    "\n",
    "# Layout\n",
    "vbox = widgets.VBox([upload_btn, classify_btn, out, img_widget, feature_output, result_label])\n",
    "\n",
    "# Display the widgets\n",
    "display(vbox)\n"
   ]
  },
  {
   "cell_type": "code",
   "execution_count": null,
   "id": "43428e36",
   "metadata": {},
   "outputs": [],
   "source": []
  }
 ],
 "metadata": {
  "kernelspec": {
   "display_name": "Python 3 (ipykernel)",
   "language": "python",
   "name": "python3"
  },
  "language_info": {
   "codemirror_mode": {
    "name": "ipython",
    "version": 3
   },
   "file_extension": ".py",
   "mimetype": "text/x-python",
   "name": "python",
   "nbconvert_exporter": "python",
   "pygments_lexer": "ipython3",
   "version": "3.11.4"
  }
 },
 "nbformat": 4,
 "nbformat_minor": 5
}
